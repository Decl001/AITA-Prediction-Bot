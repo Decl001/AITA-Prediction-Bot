{
 "cells": [
  {
   "cell_type": "markdown",
   "metadata": {},
   "source": [
    "# Reddit Data retrieval\n",
    "\n",
    "### Authenticating with reddit"
   ]
  },
  {
   "cell_type": "code",
   "execution_count": 46,
   "metadata": {},
   "outputs": [],
   "source": [
    "import yaml\n",
    "from praw import Reddit"
   ]
  },
  {
   "cell_type": "code",
   "execution_count": 47,
   "metadata": {},
   "outputs": [],
   "source": [
    "with open('auth.yaml') as yaml_f:\n",
    "    auth_obj = yaml.full_load(yaml_f)"
   ]
  },
  {
   "cell_type": "code",
   "execution_count": 48,
   "metadata": {},
   "outputs": [],
   "source": [
    "reddit = Reddit(\n",
    "    username=auth_obj['username'],\n",
    "    password=auth_obj['password'],\n",
    "    client_id=auth_obj['client-id'],\n",
    "    client_secret=auth_obj['client-secret'],\n",
    "    user_agent='aita_prediction_bot'\n",
    ")"
   ]
  },
  {
   "cell_type": "code",
   "execution_count": 49,
   "metadata": {},
   "outputs": [
    {
     "data": {
      "text/plain": [
       "Redditor(name='aita_prediction_bot')"
      ]
     },
     "execution_count": 49,
     "metadata": {},
     "output_type": "execute_result"
    }
   ],
   "source": [
    "reddit.user.me()"
   ]
  },
  {
   "cell_type": "markdown",
   "metadata": {},
   "source": [
    "### Use pushift.io to retrieve posts"
   ]
  },
  {
   "cell_type": "code",
   "execution_count": 53,
   "metadata": {},
   "outputs": [
    {
     "data": {
      "text/plain": [
       "[(datetime.datetime(2018, 8, 23, 0, 0), datetime.datetime(2018, 8, 24, 0, 0)),\n",
       " (datetime.datetime(2018, 8, 24, 0, 0), datetime.datetime(2018, 8, 25, 0, 0)),\n",
       " (datetime.datetime(2018, 8, 25, 0, 0), datetime.datetime(2018, 8, 26, 0, 0)),\n",
       " (datetime.datetime(2018, 8, 26, 0, 0), datetime.datetime(2018, 8, 27, 0, 0)),\n",
       " (datetime.datetime(2018, 8, 27, 0, 0), datetime.datetime(2018, 8, 28, 0, 0))]"
      ]
     },
     "execution_count": 53,
     "metadata": {},
     "output_type": "execute_result"
    }
   ],
   "source": [
    "from datetime import datetime, timedelta\n",
    "\n",
    "\n",
    "def datetime_tuple_range(start=None, end=None):\n",
    "    span = end - start\n",
    "    for i in range(span.days + 1):\n",
    "        yield (start + timedelta(days=i), start + timedelta(days=i + 1))\n",
    "\n",
    "date_tuples = list(datetime_tuple_range(start=datetime(2018, 8, 23), end=datetime(2020, 8, 23)))\n",
    "date_tuples[:5]"
   ]
  },
  {
   "cell_type": "code",
   "execution_count": 59,
   "metadata": {},
   "outputs": [
    {
     "name": "stderr",
     "output_type": "stream",
     "text": [
      "100%|██████████| 732/732 [2:16:12<00:00, 11.16s/it]  \n"
     ]
    }
   ],
   "source": [
    "import time\n",
    "import requests\n",
    "from tqdm import tqdm\n",
    "\n",
    "\n",
    "submissions = []\n",
    "\n",
    "for time_after, time_before in tqdm(date_tuples):\n",
    "\n",
    "    request_params = {\n",
    "        'before': int(time.mktime(time_before.timetuple())),\n",
    "        'after': int(time.mktime(time_after.timetuple())),\n",
    "        'subreddit': 'AmITheAsshole'\n",
    "    }\n",
    "    url = 'https://api.pushshift.io/reddit/submission/search/'\n",
    "\n",
    "    response = requests.get(url, params=request_params)\n",
    "    if response:\n",
    "        submissions.append(response.json()['data'])\n",
    "    else:\n",
    "        print('request failed')\n",
    "    time.sleep(10)"
   ]
  },
  {
   "cell_type": "code",
   "execution_count": 60,
   "metadata": {},
   "outputs": [
    {
     "data": {
      "text/plain": [
       "25"
      ]
     },
     "execution_count": 60,
     "metadata": {},
     "output_type": "execute_result"
    }
   ],
   "source": [
    "len(response.json()['data'])"
   ]
  },
  {
   "cell_type": "code",
   "execution_count": 61,
   "metadata": {},
   "outputs": [],
   "source": [
    "import json\n",
    "\n",
    "with open('../data/submissions.json', 'w') as json_f:\n",
    "    json.dump(\n",
    "        {\n",
    "            'submissions': submissions\n",
    "        },\n",
    "        json_f\n",
    "    )"
   ]
  },
  {
   "cell_type": "code",
   "execution_count": 62,
   "metadata": {},
   "outputs": [
    {
     "data": {
      "text/plain": [
       "732"
      ]
     },
     "execution_count": 62,
     "metadata": {},
     "output_type": "execute_result"
    }
   ],
   "source": [
    "len(submissions)"
   ]
  },
  {
   "cell_type": "code",
   "execution_count": 65,
   "metadata": {},
   "outputs": [
    {
     "data": {
      "text/plain": [
       "18289"
      ]
     },
     "execution_count": 65,
     "metadata": {},
     "output_type": "execute_result"
    }
   ],
   "source": [
    "sum([len(subs) for subs in submissions])"
   ]
  },
  {
   "cell_type": "code",
   "execution_count": null,
   "metadata": {},
   "outputs": [],
   "source": []
  }
 ],
 "metadata": {
  "kernelspec": {
   "display_name": "Python 3",
   "language": "python",
   "name": "python3"
  },
  "language_info": {
   "codemirror_mode": {
    "name": "ipython",
    "version": 3
   },
   "file_extension": ".py",
   "mimetype": "text/x-python",
   "name": "python",
   "nbconvert_exporter": "python",
   "pygments_lexer": "ipython3",
   "version": "3.7.7"
  }
 },
 "nbformat": 4,
 "nbformat_minor": 4
}
