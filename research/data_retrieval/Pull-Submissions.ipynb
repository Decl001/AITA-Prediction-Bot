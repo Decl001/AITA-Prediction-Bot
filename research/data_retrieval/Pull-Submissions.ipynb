{
 "cells": [
  {
   "cell_type": "markdown",
   "metadata": {},
   "source": [
    "# Reddit Data retrieval\n",
    "\n",
    "### Authenticating with reddit"
   ]
  },
  {
   "cell_type": "code",
   "execution_count": 1,
   "metadata": {},
   "outputs": [],
   "source": [
    "import yaml\n",
    "from praw import Reddit"
   ]
  },
  {
   "cell_type": "code",
   "execution_count": 2,
   "metadata": {},
   "outputs": [],
   "source": [
    "with open('auth.yaml') as yaml_f:\n",
    "    auth_obj = yaml.full_load(yaml_f)"
   ]
  },
  {
   "cell_type": "code",
   "execution_count": 3,
   "metadata": {},
   "outputs": [],
   "source": [
    "reddit = Reddit(\n",
    "    username=auth_obj['username'],\n",
    "    password=auth_obj['password'],\n",
    "    client_id=auth_obj['client-id'],\n",
    "    client_secret=auth_obj['client-secret'],\n",
    "    user_agent='aita_prediction_bot'\n",
    ")"
   ]
  },
  {
   "cell_type": "code",
   "execution_count": 4,
   "metadata": {},
   "outputs": [
    {
     "data": {
      "text/plain": [
       "Redditor(name='aita_prediction_bot')"
      ]
     },
     "execution_count": 4,
     "metadata": {},
     "output_type": "execute_result"
    }
   ],
   "source": [
    "reddit.user.me()"
   ]
  },
  {
   "cell_type": "markdown",
   "metadata": {},
   "source": [
    "### Use pushift.io to retrieve posts"
   ]
  },
  {
   "cell_type": "code",
   "execution_count": 5,
   "metadata": {},
   "outputs": [
    {
     "data": {
      "text/plain": [
       "[(datetime.datetime(2016, 8, 23, 0, 0), datetime.datetime(2016, 8, 24, 0, 0)),\n",
       " (datetime.datetime(2016, 8, 24, 0, 0), datetime.datetime(2016, 8, 25, 0, 0)),\n",
       " (datetime.datetime(2016, 8, 25, 0, 0), datetime.datetime(2016, 8, 26, 0, 0)),\n",
       " (datetime.datetime(2016, 8, 26, 0, 0), datetime.datetime(2016, 8, 27, 0, 0)),\n",
       " (datetime.datetime(2016, 8, 27, 0, 0), datetime.datetime(2016, 8, 28, 0, 0))]"
      ]
     },
     "execution_count": 5,
     "metadata": {},
     "output_type": "execute_result"
    }
   ],
   "source": [
    "from datetime import datetime, timedelta\n",
    "\n",
    "\n",
    "def datetime_tuple_range(start=None, end=None):\n",
    "    span = end - start\n",
    "    for i in range(span.days + 1):\n",
    "        yield (start + timedelta(days=i), start + timedelta(days=i + 1))\n",
    "\n",
    "date_tuples = list(datetime_tuple_range(start=datetime(2016, 8, 23), end=datetime(2020, 8, 23)))\n",
    "date_tuples[:5]"
   ]
  },
  {
   "cell_type": "code",
   "execution_count": 22,
   "metadata": {},
   "outputs": [
    {
     "name": "stderr",
     "output_type": "stream",
     "text": [
      "  2%|▏         | 2/110 [00:13<12:05,  6.72s/it]\n"
     ]
    },
    {
     "ename": "KeyboardInterrupt",
     "evalue": "",
     "output_type": "error",
     "traceback": [
      "\u001b[0;31m---------------------------------------------------------------------------\u001b[0m",
      "\u001b[0;31mKeyboardInterrupt\u001b[0m                         Traceback (most recent call last)",
      "\u001b[0;32m<ipython-input-22-a3d642baeb81>\u001b[0m in \u001b[0;36m<module>\u001b[0;34m\u001b[0m\n\u001b[1;32m     20\u001b[0m     \u001b[0;32melse\u001b[0m\u001b[0;34m:\u001b[0m\u001b[0;34m\u001b[0m\u001b[0;34m\u001b[0m\u001b[0m\n\u001b[1;32m     21\u001b[0m         \u001b[0mprint\u001b[0m\u001b[0;34m(\u001b[0m\u001b[0;34m'request failed'\u001b[0m\u001b[0;34m)\u001b[0m\u001b[0;34m\u001b[0m\u001b[0;34m\u001b[0m\u001b[0m\n\u001b[0;32m---> 22\u001b[0;31m     \u001b[0mtime\u001b[0m\u001b[0;34m.\u001b[0m\u001b[0msleep\u001b[0m\u001b[0;34m(\u001b[0m\u001b[0;36m5\u001b[0m\u001b[0;34m)\u001b[0m \u001b[0;31m# Avoid rate limiting\u001b[0m\u001b[0;34m\u001b[0m\u001b[0;34m\u001b[0m\u001b[0m\n\u001b[0m",
      "\u001b[0;31mKeyboardInterrupt\u001b[0m: "
     ]
    }
   ],
   "source": [
    "import time\n",
    "import requests\n",
    "from tqdm import tqdm\n",
    "\n",
    "\n",
    "submissions = []\n",
    "\n",
    "for time_after, time_before in tqdm(date_tuples):\n",
    "\n",
    "    request_params = {\n",
    "        'before': int(time.mktime(time_before.timetuple())),\n",
    "        'after': int(time.mktime(time_after.timetuple())),\n",
    "        'subreddit': 'AmITheAsshole'\n",
    "    }\n",
    "    url = 'https://api.pushshift.io/reddit/submission/search/'\n",
    "\n",
    "    response = requests.get(url, params=request_params)\n",
    "    if response:\n",
    "        submissions.extend(response.json()['data'])\n",
    "    else:\n",
    "        print('request failed')\n",
    "    time.sleep(5) # Avoid rate limiting"
   ]
  },
  {
   "cell_type": "code",
   "execution_count": 18,
   "metadata": {},
   "outputs": [],
   "source": [
    "import json\n",
    "\n",
    "with open('../data/submissions-2016-2020.json', 'w') as json_f:\n",
    "    json.dump(\n",
    "        {\n",
    "            'submissions': submissions\n",
    "        },\n",
    "        json_f\n",
    "    )"
   ]
  },
  {
   "cell_type": "code",
   "execution_count": 19,
   "metadata": {},
   "outputs": [
    {
     "data": {
      "text/plain": [
       "22864"
      ]
     },
     "execution_count": 19,
     "metadata": {},
     "output_type": "execute_result"
    }
   ],
   "source": [
    "len(submissions)"
   ]
  },
  {
   "cell_type": "code",
   "execution_count": 20,
   "metadata": {},
   "outputs": [],
   "source": [
    "import random\n",
    "\n",
    "index = random.randint(0, len(submissions))"
   ]
  },
  {
   "cell_type": "code",
   "execution_count": 21,
   "metadata": {},
   "outputs": [
    {
     "data": {
      "text/plain": [
       "{'author': 'kirbykazzkarina',\n",
       " 'author_flair_css_class': None,\n",
       " 'author_flair_richtext': [],\n",
       " 'author_flair_text': None,\n",
       " 'author_flair_type': 'text',\n",
       " 'author_fullname': 't2_13f02zmd',\n",
       " 'author_patreon_flair': False,\n",
       " 'can_mod_post': False,\n",
       " 'contest_mode': False,\n",
       " 'created_utc': 1540422257,\n",
       " 'domain': 'self.AmItheAsshole',\n",
       " 'full_link': 'https://www.reddit.com/r/AmItheAsshole/comments/9r4pjq/aita_because_i_cant_control_my_emotions_and_my/',\n",
       " 'gildings': {'gid_1': 0, 'gid_2': 0, 'gid_3': 0},\n",
       " 'id': '9r4pjq',\n",
       " 'is_crosspostable': True,\n",
       " 'is_meta': False,\n",
       " 'is_original_content': False,\n",
       " 'is_reddit_media_domain': False,\n",
       " 'is_robot_indexable': True,\n",
       " 'is_self': True,\n",
       " 'is_video': False,\n",
       " 'link_flair_background_color': '',\n",
       " 'link_flair_richtext': [],\n",
       " 'link_flair_text_color': 'dark',\n",
       " 'link_flair_type': 'text',\n",
       " 'locked': False,\n",
       " 'media_only': False,\n",
       " 'no_follow': True,\n",
       " 'num_comments': 17,\n",
       " 'num_crossposts': 0,\n",
       " 'over_18': False,\n",
       " 'parent_whitelist_status': 'house_only',\n",
       " 'permalink': '/r/AmItheAsshole/comments/9r4pjq/aita_because_i_cant_control_my_emotions_and_my/',\n",
       " 'pinned': False,\n",
       " 'pwls': 1,\n",
       " 'retrieved_on': 1540422258,\n",
       " 'score': 1,\n",
       " 'selftext': 'So I’ve been with my boyfriend for the most part of this year, I am 21 and he is 27. We’ve had a rough start but he’s been my friend for a very long time now. Only since the start of the year did I realise that sometimes he can turn very nasty and say hurtful and inconsiderate things. He has a short temper when it comes to his ego and becomes very defensive when it’s something that he considers an attack on it. Even when I’ve tried to explain this to him it’s another attack and it makes him really angry.\\n\\nI’m a fragile person and seeing this side of him scared and confused me as I’d never seen it in him before when we were friends. I have had intense emotional problems in the past and have had some really trying times this year. He has also been through a lot however and relates all of his and everyone else’s issues to his past, which allows him to not internalise his problems and to disconnect from strong emotions because of an “at least it’s not as bad as that”. It’s something I wish I could do but I’m not at that point yet and I also things it’s more of an avoidant personality thing than actually dealing with your problems.\\n\\nOur most recent fight was over something so trivial, he was annoyed at me -&gt; I was defending myself -&gt; he thought I was angry at him -&gt; as I was trying to explain I wasn’t angry he was barely listening and flicking through his phone on purpose -&gt; I started crying and asked him to not ignore me -&gt; he got annoyed so he got up and walked out -&gt; I followed still trying to explain myself -&gt; he was walking around the house ignoring me -&gt; I was trying to grab his hands to stop him so he would actually listen -&gt; he was telling me to get out of his house -&gt; I was becoming more hysteric I asked him to hug me -&gt; he hugged me but continued to say that me crying was a cop out and he has no sympathy -&gt; I left and cried in my car for an hour gathered myself, went to buy some groceries and went back to talk to him and explain that my crying is a reaction that I have no control over I’m not intentionally crying I know that it doesn’t help the problem at all -&gt; he didn’t want to talk to me and I didn’t have anywhere else to go so he told me I can either chill and sit out there with him or go into the bedroom so I went into the bedroom.\\n\\nHours passed and I was still crying, people came over, they were out there having fun. I wanted to go out there and get over it but my anxiety was holding me to the bed and I felt that even if I did go out there I would be a pain to them, that they wouldn’t want me there killing the mood. My eyes were all puffy and I had clearly been crying.\\n\\nHe didn’t come in to check on me once. I didn’t expect him to but I also would never do that to someone. I would never let someone sit in their sadness and anxiety the way I did.. 7 hours I was in bed. I felt pathetic and lonely.\\n\\nI am a deeply empathetic person my ideals are to give people love, to always show support to someone you care about no matter how trivial it may be and to empathise with the way they feel. I hate acting silly and panicking for no reason I’m more aware of it than I think he understands and yet it’s not something that I can really help all that much. \\n\\nI finally messaged him to come and help me leave the room because I still felt anxious and he sat down to talk about it. He told me he is sick of this. That he has no sympathy for when I am like this and of course he’d be there for me for “real problems” but to him this is something stupid and he wants to give it no energy. The problem is that I can’t seem to do that and he genuinely can’t find even a shred of care for me when I am struggling with this. He thinks it’s just me being childish but I am hurting so so much. Sure the problem might not be real to him but to me it’s as real and as painful as it gets. He also claims that I don’t consider him when I start getting upset and how difficult it is for him which I understand and I try to consider him by leaving him alone or apologising for my actions but it feels like there’s no effort for that on his part.\\n\\nHe has told me I need to see someone and I agree but I would also like to see some support and care for the way that I am right now... am I an asshole for expecting this from him?',\n",
       " 'send_replies': True,\n",
       " 'spoiler': False,\n",
       " 'stickied': False,\n",
       " 'subreddit': 'AmItheAsshole',\n",
       " 'subreddit_id': 't5_2xhvq',\n",
       " 'subreddit_subscribers': 134238,\n",
       " 'subreddit_type': 'public',\n",
       " 'suggested_sort': 'top',\n",
       " 'thumbnail': 'self',\n",
       " 'title': 'AITA because I can’t control my emotions and my boyfriend can’t stand it?',\n",
       " 'url': 'https://www.reddit.com/r/AmItheAsshole/comments/9r4pjq/aita_because_i_cant_control_my_emotions_and_my/',\n",
       " 'whitelist_status': 'house_only',\n",
       " 'wls': 1}"
      ]
     },
     "execution_count": 21,
     "metadata": {},
     "output_type": "execute_result"
    }
   ],
   "source": [
    "submissions[index]"
   ]
  },
  {
   "cell_type": "code",
   "execution_count": 28,
   "metadata": {},
   "outputs": [],
   "source": [
    "from praw.models import Submission\n",
    "\n",
    "submission = Submission(reddit, url=submissions[index]['url'])"
   ]
  },
  {
   "cell_type": "code",
   "execution_count": 31,
   "metadata": {},
   "outputs": [
    {
     "data": {
      "text/plain": [
       "'Not the A-hole'"
      ]
     },
     "execution_count": 31,
     "metadata": {},
     "output_type": "execute_result"
    }
   ],
   "source": [
    "submission.link_flair_text"
   ]
  },
  {
   "cell_type": "code",
   "execution_count": 24,
   "metadata": {},
   "outputs": [
    {
     "name": "stderr",
     "output_type": "stream",
     "text": [
      "100%|██████████| 110/110 [09:11<00:00,  5.01s/it]\n"
     ]
    }
   ],
   "source": [
    "### The last few requests failed so lets retry them\n",
    "\n",
    "import time\n",
    "import requests\n",
    "from tqdm import tqdm\n",
    "\n",
    "with open('../data/submissions-2016-2020.json') as json_f:\n",
    "    submissions = json.load(json_f)['submissions']\n",
    "\n",
    "for time_after, time_before in tqdm(date_tuples[1352:]):\n",
    "\n",
    "    request_params = {\n",
    "        'before': int(time.mktime(time_before.timetuple())),\n",
    "        'after': int(time.mktime(time_after.timetuple())),\n",
    "        'subreddit': 'AmITheAsshole'\n",
    "    }\n",
    "    url = 'https://api.pushshift.io/reddit/submission/search/'\n",
    "\n",
    "    response = requests.get(url, params=request_params)\n",
    "    if response:\n",
    "        submissions.extend(response.json()['data'])\n",
    "    else:\n",
    "        print('request failed')\n",
    "    time.sleep(4) # Avoid rate limiting"
   ]
  },
  {
   "cell_type": "code",
   "execution_count": 25,
   "metadata": {},
   "outputs": [],
   "source": [
    "with open('../data/submissions-2016-2020-with-failed.json', 'w') as json_f:\n",
    "    json.dump(\n",
    "        {\n",
    "            'submissions': submissions\n",
    "        },\n",
    "        json_f\n",
    "    )"
   ]
  },
  {
   "cell_type": "code",
   "execution_count": 26,
   "metadata": {},
   "outputs": [
    {
     "data": {
      "text/plain": [
       "25614"
      ]
     },
     "execution_count": 26,
     "metadata": {},
     "output_type": "execute_result"
    }
   ],
   "source": [
    "len(submissions)"
   ]
  },
  {
   "cell_type": "code",
   "execution_count": null,
   "metadata": {},
   "outputs": [],
   "source": []
  }
 ],
 "metadata": {
  "kernelspec": {
   "display_name": "Python 3",
   "language": "python",
   "name": "python3"
  }
 },
 "nbformat": 4,
 "nbformat_minor": 4
}
