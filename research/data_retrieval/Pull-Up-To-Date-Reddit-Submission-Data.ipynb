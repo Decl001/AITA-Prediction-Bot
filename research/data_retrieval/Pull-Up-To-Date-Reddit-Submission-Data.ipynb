{
 "cells": [
  {
   "cell_type": "code",
   "execution_count": 1,
   "metadata": {},
   "outputs": [],
   "source": [
    "import json\n",
    "\n",
    "with open('../data/submissions-2016-2020-with-failed.json') as json_f:\n",
    "    submissions = json.load(json_f)['submissions']"
   ]
  },
  {
   "cell_type": "code",
   "execution_count": 37,
   "metadata": {},
   "outputs": [],
   "source": [
    "import random\n",
    "\n",
    "index = random.randint(0, len(submissions))"
   ]
  },
  {
   "cell_type": "code",
   "execution_count": 38,
   "metadata": {},
   "outputs": [
    {
     "data": {
      "text/plain": [
       "{'all_awardings': [],\n",
       " 'allow_live_comments': False,\n",
       " 'author': 'Barf-Vader',\n",
       " 'author_flair_css_class': None,\n",
       " 'author_flair_richtext': [],\n",
       " 'author_flair_text': None,\n",
       " 'author_flair_type': 'text',\n",
       " 'author_fullname': 't2_3cwy8ucm',\n",
       " 'author_patreon_flair': False,\n",
       " 'awarders': [],\n",
       " 'can_mod_post': False,\n",
       " 'contest_mode': False,\n",
       " 'created_utc': 1572741767,\n",
       " 'domain': 'self.AmItheAsshole',\n",
       " 'full_link': 'https://www.reddit.com/r/AmItheAsshole/comments/dqt9ud/am_i_the_asshole/',\n",
       " 'gildings': {},\n",
       " 'id': 'dqt9ud',\n",
       " 'is_crosspostable': False,\n",
       " 'is_meta': False,\n",
       " 'is_original_content': False,\n",
       " 'is_reddit_media_domain': False,\n",
       " 'is_robot_indexable': False,\n",
       " 'is_self': True,\n",
       " 'is_video': False,\n",
       " 'link_flair_background_color': '',\n",
       " 'link_flair_richtext': [],\n",
       " 'link_flair_text_color': 'dark',\n",
       " 'link_flair_type': 'text',\n",
       " 'locked': False,\n",
       " 'media_only': False,\n",
       " 'no_follow': True,\n",
       " 'num_comments': 1,\n",
       " 'num_crossposts': 0,\n",
       " 'over_18': False,\n",
       " 'parent_whitelist_status': 'all_ads',\n",
       " 'permalink': '/r/AmItheAsshole/comments/dqt9ud/am_i_the_asshole/',\n",
       " 'pinned': False,\n",
       " 'pwls': 6,\n",
       " 'retrieved_on': 1572741768,\n",
       " 'score': 1,\n",
       " 'selftext': '[removed]',\n",
       " 'send_replies': True,\n",
       " 'spoiler': False,\n",
       " 'steward_reports': [],\n",
       " 'stickied': False,\n",
       " 'subreddit': 'AmItheAsshole',\n",
       " 'subreddit_id': 't5_2xhvq',\n",
       " 'subreddit_subscribers': 1456990,\n",
       " 'subreddit_type': 'public',\n",
       " 'thumbnail': 'self',\n",
       " 'title': 'Am I the asshole?',\n",
       " 'total_awards_received': 0,\n",
       " 'updated_utc': 1572828154,\n",
       " 'url': 'https://www.reddit.com/r/AmItheAsshole/comments/dqt9ud/am_i_the_asshole/',\n",
       " 'whitelist_status': 'all_ads',\n",
       " 'wls': 6}"
      ]
     },
     "execution_count": 38,
     "metadata": {},
     "output_type": "execute_result"
    }
   ],
   "source": [
    "submissions[index]"
   ]
  },
  {
   "cell_type": "code",
   "execution_count": 39,
   "metadata": {},
   "outputs": [],
   "source": [
    "import yaml\n",
    "from praw import Reddit\n",
    "\n",
    "\n",
    "with open('auth.yaml') as yaml_f:\n",
    "    auth_obj = yaml.full_load(yaml_f)\n",
    "\n",
    "\n",
    "reddit = Reddit(\n",
    "    username=auth_obj['username'],\n",
    "    password=auth_obj['password'],\n",
    "    client_id=auth_obj['client-id'],\n",
    "    client_secret=auth_obj['client-secret'],\n",
    "    user_agent='desktop:aita_prediction_bot:v0.0.0 (by /u/aita_prediction_bot)'\n",
    ")"
   ]
  },
  {
   "cell_type": "code",
   "execution_count": 40,
   "metadata": {},
   "outputs": [],
   "source": [
    "from praw.models import Submission\n",
    "\n",
    "submission = Submission(reddit, url=submissions[index]['url'])"
   ]
  },
  {
   "cell_type": "code",
   "execution_count": 41,
   "metadata": {},
   "outputs": [
    {
     "name": "stdout",
     "output_type": "stream",
     "text": [
      "[removed]\n"
     ]
    }
   ],
   "source": [
    "print(submission.selftext)"
   ]
  },
  {
   "cell_type": "code",
   "execution_count": 42,
   "metadata": {},
   "outputs": [],
   "source": [
    "submission.link_flair_text"
   ]
  },
  {
   "cell_type": "code",
   "execution_count": 36,
   "metadata": {},
   "outputs": [
    {
     "name": "stdout",
     "output_type": "stream",
     "text": [
      "On the one hand, you really should have gotten explicit permission from every roommate before getting the cat. I'm allergic to cats and my quality of life would go way down if my roommate just decided to bring one home one day. On the other hand, you gave him a chance to say no and he just said \"meh\". I suspect you knew he didn't want you to get one but you did it anyway because he didn't actually SAY no, which is pretty assholey. The roommate is definitely an asshole for being so passive aggressive about everything.\n",
      "\n",
      "I'd say both assholes, you for not caring about your roommate's desire to not have a cat, and him for being rude and passive aggressive about it.\n",
      "First things first, he's an asshole for treating the cat in that way, even if he regrets its presence in the house.  But you're not in the IsMyFlatmateTheAsshole sub, so lets move on to your own culpabilities here.\n",
      "\n",
      "While in theory your flatmate *could* have communicated his opposition when you were first getting the cat, at that point he would have been relatively uninformed about what having a kitten would mean.  And that *is* largely on you.  Not everybody sits around all day looking up what it means to care for a pet just on the off-chance that their flatmate will visit the rescue centre that day and spring the decision of whether to get a pet or not.  Forcing a decision on the same day was deeply irresponsible of you.  \n",
      "\n",
      "Taking on a pet is a significant decision that entails significant responsibility and patience, not just from you but from everybody in that living environment.  It is not the type of thing that can be sorted out quickly on WhatsApp.  I'm surprised the centre let you take the kitten so easily, last time I got a rescue cat it entailed a house visit and an interview with all the members of the household first.  If they weren't going to organise that, you should have, in that you should have had a communal meeting face-to-face with your housemates in which you made sure they were aware of the implications and downsides of what this would involve, and made sure they were onboard with that.  You do that both for their well-being, but mostly for the well-being of the animal you're about to take in.\n",
      "\n",
      "By being a negligent asshole then, too caught up in your own excitement to make sure your flatmates were informed and on board, you've put yourself in this current, difficult position.  You have to end his behaviour, either by removing the water gun and his attitude, or by removing the kitten from the situation if that is not possible.  The best way forwards probably begins with an apology from you to him.  He has legitimate grievances, he is expressing them in a totally unacceptable manner.  Try and address the grievances and make up for them, and from that basis rectify the problems he is causing now.\n",
      "\n",
      "****\n",
      "\n",
      "Tl;dr: obviously he is being a massive asshole, but the situation has it's roots in your negligent asshole behaviour in the past.\n",
      "You're the asshole. \n",
      "\n",
      "It's fine to ask your roommates to not spray the cat. However, you have a young cat with unacceptable behaviors in a shared house. \n",
      "\n",
      "It is completely WRONG to tell the roommate that each time your cat creates a problem, your roommate has go to the trouble of finding you to deal with it. You're imposing multiple levels of inconvenience on your roommate. \n",
      "\n",
      "Your roommate found a way to deal with the bad behavior because you clearly weren't effectively doing so. You may disapprove of the spraying method, but I'm sure I could find a thousand sources saying it's effective (which I'm willing to bet is what your roommate did when he likely googled \"how to stop cat from jumping on furniture). \n",
      "\n",
      "### The right thing to do is:\n",
      "\n",
      "- recognize that your cat is still \"poorly\" behaved according to house standards, \n",
      "\n",
      "- do the research on how to effectively deal with and stop the bad behavior, \n",
      "\n",
      "- make a serious effort to correct the behavior and actively enforce good behavior **every single time** you're with the cat, and \n",
      "\n",
      "- give your roommate specific, acceptable ways to effectively do so himself when you are not present. \n",
      "\n",
      "It's your cat. Not his. You want it to live with him, it's 100% your responsibility to make sure that your roommate is equipped to properly handle the cat, including in your absence. \n",
      "\n",
      "It's fine that you disapprove of the spraying disciplinary method and tell him not to do it, and if he continues then he's wrong. \n",
      "\n",
      "But if you didn't *also* give him an acceptable disciplinary method to handle the behavior **himself**, then **you're the asshole.**\n",
      "\n",
      "\n",
      "New, young pets amongst roommates = Drama. Not every time, but I've seen it enough times to know...\n",
      "\n",
      "\n",
      "The fact that you bought the kitten without talking to everyone in depth first does make you the asshole here. Your decision greatly affected everyone in the house and needed full buy-in from all of the the roommates before you could proceed. Yes, your roommate could have responded with a better answer when you asked him... But it was your responsibility to understand his full feelings, and investigate any hesitation he may have shown. Hesitation that the 'Meh' answer clearly indicated. Buying that kitten was definitely an asshole move...\n",
      "\n",
      "\n",
      "Now, with that said, your roomate: He seems to have some passive aggressive tendencies and communication issues. Using a water gun on a cat is cruel, and passive aggressive. He is also an asshole for that. But you still forced this cat upon him and as he showed he would prefer not to have a cat (That's how I read his 'Meh' response) he really has no obligation to try and train your cat properly. These actions are just them acting out their anger towards your assholish move, buying the cat. The response you sent them (As shown in another post) will only suffice to stoke this anger and make matters worse. Take responsibility, apologize, don't throw blame at your roommate and maybe you can make up for your mistake...\n",
      "\n",
      "\n",
      "Sadly though, you dug yourself a grave you'll have to lie in. It's not like you can just give up the kitten now (You've accepted the immense responsibility for it for the next decade +), nor can you easily kick out your roommate (I'm assuming...). Welcome to the common drama that young pets cause amongst roommates... Everytime I've seen this in the past (half a dozen times amongst different people? Maybe more?) it ends with broken friendships, hard feelings, and someone moving out as quick as legally possible. And because you didn't discuss this fully beforehand, that's all on you...\n",
      "Alright so he's suggesting that I send the cat to another house every other week. i.e. My parents who live relatively close by...  \n",
      "I think that this doesn't at all solve the issue. Any input on that?\n",
      "Not an asshole. \n",
      "\n",
      "You asked and they said whatever.\n",
      "\n",
      "Now they know what living with a kitten is like.\n",
      "You aren't an asshole, but I can see if he wasn't thrilled about a cat he would be annoyed when your cat gets into his space. It's a tough spot since he can't exactly keep the cat out of his room without having the door shut 24/7. I will say that the cat getting squirted with water doesn't seem like a huge deal, but that's just me.\n",
      "[deleted]\n",
      "You're not the asshole, and assuming that you really did explain \"nicely\" and he blew up at you about it, your roommate is a bit of an asshole for responding so adversarially. Perhaps he's been holding it in for a while and that's why his response was so over the top? It's hard to say from this one post.\n",
      "\n",
      "Personally, I interpret a \"meh\" response to mean \"I'm not happy about it, but I'm okay with it.\" If I'm picking a place to eat with a friend and they say, \"Meh,\" I'll talk to them to find a place that we're both happy with. If I ask for permission to do something and someone says, \"Meh,\" I would probably ask a clarifying question, but if they didn't respond, I would assume that they don't really have a problem with it. So, if he didn't really convey that he didn't want you to get a cat at the time, then I don't think you're an asshole for getting a cat. Also kind of depends on who owns the lease and how you guys usually solve conflicts in the apartment.\n",
      "\n",
      "As for how he's treating your poor kitten, did he say whether he would stop spraying your cat with the water bottle? Did he agree to talk to you when your cat is doing something wrong, or did he say that he'll do what he wants because he basically hates your cat and it's a huge nuisance?\n",
      ">I explained to him as nicely as I could that water can get in a cat's ears and cause painful ear infections, and that I'd prefer him to just tell me where he doesn't want the cat and I'll try to do the disciplining.\n",
      "\n",
      "What? \n",
      "\n",
      "A) If you need to do disciplining then you should handle it before your roommate takes action for himself. Then you can say \"I'm doing [x] to train the cat and you're interfering with that.\"\n",
      "\n",
      "B) The chances that he's going to cause an ear infection by squirting the cat with a water pistol from across the room are close to zero. That's hyperbole.\n",
      "\n",
      ">My girlfriend and I went to a shelter to look at cats and dogs a while back and fell in love with a little kitten that we couldn't just leave there... \n",
      "\n",
      "This is exactly how those pets end up in shelters to begin with. You've been irresponsible. \n",
      "\n",
      "You're an asshole (in this).\n",
      "Your roommates are total assholes. Anyone who finds causing pain to animals funny - especially in person, not on video - will eventually do your pet real harm.\n",
      "\n",
      "It's also definitely an asshole thing to spring pets on roommates without having had multiple conversations about it before, starting with \"I want a cat so bad\" and moving up to \"I'm going to the shelter tomorrow to look at cats to adopt\" over the course of weeks.\n",
      "\n",
      "But on the scale? Making someone else's pet miserable on purpose is much more asshole than springing a pet on roommates.\n",
      "Here's the backdrop:  \n",
      "I used to live with 5 other people, two other couples, and my own girlfriend. My girlfriend and I went to a shelter to look at cats and dogs a while back and fell in love with a little kitten that we couldn't just leave there... So naturally, I sent a message to each of my roommates about getting a cat and every single one of them responded positively, except for one, who said \"meh,\" basically.  \n",
      "\n",
      "Time has passed and two roommates have moved along to another place, and we're still here with \"meh\" guy and his girlfriend.  \n",
      "\n",
      "The cat is still very young and is still learning to avoid jumping on tables, counters, etc. She's also very vocal sometimes and will meow for attention.  \n",
      "\n",
      "Recently, my roommate thought it was a funny / good idea to buy a small water gun to spray the cat from across the room whenever it does something he doesn't like. He and his girlfriend just die laughing when they spray the poor thing and it has no idea why or where it's being sprayed from... \n",
      "\n",
      "I explained to him as nicely as I could that water can get in a cat's ears and cause painful ear infections, and that I'd prefer him to just tell me where he doesn't want the cat and I'll try to do the disciplining.  \n",
      "\n",
      "Instead he sends me a whole tirade about how I put the cat over him and that I never considered his feelings about the whole thing. Also a ton of stuff about her biting and scratching (which she has nearly completely been trained out of at this point) and how we treat the cat like royalty etc etc...  \n",
      "\n",
      "Am I insane? I was sent nearly like 400 words of just pure passive-aggressive, sarcastic, and straight-up rude tirade...  \n",
      "\n",
      "Am I the asshole here?\n",
      "\n",
      "*This is a copy of the above post. It is a record of the post as originally written, in case the post is deleted or edited.*  \n",
      "\n",
      "*I am a bot, and this action was performed automatically. Please [contact the moderators of this subreddit](/message/compose/?to=/r/AmItheAsshole) if you have any questions or concerns.*\n",
      "I think you should move or just bring the cat safe cause it would be really awful if anything would happen to the cat. I think your not the asshole cause he's the only one that didn't want it\n"
     ]
    }
   ],
   "source": [
    "from praw.models import MoreComments\n",
    "\n",
    "submission.comment_sort = 'best'\n",
    "submission.comment_limit = 5\n",
    "for top_level_comment in submission.comments:\n",
    "    if isinstance(top_level_comment, MoreComments):\n",
    "        continue\n",
    "    # Here you can fetch data off the comment.\n",
    "    # For the sake of example, we're just printing the comment body.\n",
    "    print(top_level_comment.body)"
   ]
  },
  {
   "cell_type": "markdown",
   "metadata": {},
   "source": [
    "## What do we need from each submission?\n",
    "\n",
    "For training\n",
    "- The text\n",
    "- The flair (if it exists)\n",
    "- The top n comments (set to 5 in this case)\n",
    "\n",
    "For Metadata\n",
    "- The title\n",
    "- The url\n",
    "- The score\n",
    "\n",
    "Allowed 1 rq/s so we will add a 1s sleep after each request"
   ]
  },
  {
   "cell_type": "code",
   "execution_count": 84,
   "metadata": {},
   "outputs": [
    {
     "name": "stderr",
     "output_type": "stream",
     "text": [
      "100%|██████████████████████████████████████████████████████████████████████████████████████████████████████████████████████████████████████████████████████████████████████████████████████| 25614/25614 [13:30:36<00:00,  1.90s/it]\n"
     ]
    }
   ],
   "source": [
    "import time\n",
    "from tqdm import tqdm\n",
    "\n",
    "n_comments = 5\n",
    "raw_submissions = []\n",
    "failed = []\n",
    "\n",
    "for submission in tqdm(submissions):\n",
    "    try:\n",
    "        # check if it was already removed\n",
    "        if not submission['selftext'] == '[removed]':\n",
    "            submission_obj = Submission(reddit, url=submission['url'])\n",
    "            submission_obj.comment_sort = 'best'\n",
    "            submission_obj.comment_limit = 5\n",
    "            comments = []\n",
    "            for top_level_comment in submission_obj.comments:\n",
    "                if isinstance(top_level_comment, MoreComments):\n",
    "                    continue\n",
    "                comments.append(top_level_comment.body)\n",
    "            if submission_obj.selftext == '[deleted]' or submission_obj.selftext == '[removed]':\n",
    "                desired_text = submission['selftext']\n",
    "            else:\n",
    "                desired_text = submission_obj.selftext\n",
    "            \n",
    "            raw_submission = {\n",
    "                'text': desired_text,\n",
    "                'flair': submission_obj.link_flair_text if submission_obj.link_flair_text else '',\n",
    "                'comments': comments,\n",
    "                'title': submission_obj.title,\n",
    "                'url': submission_obj.url,\n",
    "                'score': submission_obj.score\n",
    "            }\n",
    "            raw_submissions.append(raw_submission)\n",
    "            \n",
    "            time.sleep(2)\n",
    "            if reddit.auth.limits['remaining'] < 2:\n",
    "                time.sleep(int(reddit.auth.limits['reset_timestamp'] - time.time()))\n",
    "        else:\n",
    "            failed.append(submission)\n",
    "    except Exception as e:\n",
    "        failed.append(submission)"
   ]
  },
  {
   "cell_type": "code",
   "execution_count": 85,
   "metadata": {},
   "outputs": [],
   "source": [
    "with open('../data/submissions-2016-2020-raw-reddit-api-data.json', 'w') as json_f:\n",
    "    json.dump(\n",
    "        {\n",
    "            'submissions': raw_submissions\n",
    "        },\n",
    "        json_f\n",
    "    )"
   ]
  },
  {
   "cell_type": "code",
   "execution_count": 86,
   "metadata": {},
   "outputs": [],
   "source": [
    "with open('../data/FAILED-submissions-2016-2020-raw-reddit-api-data.json', 'w') as json_f:\n",
    "    json.dump(\n",
    "        {\n",
    "            'submissions': failed\n",
    "        },\n",
    "        json_f\n",
    "    )"
   ]
  },
  {
   "cell_type": "code",
   "execution_count": 87,
   "metadata": {},
   "outputs": [
    {
     "data": {
      "text/plain": [
       "20389"
      ]
     },
     "execution_count": 87,
     "metadata": {},
     "output_type": "execute_result"
    }
   ],
   "source": [
    "len(raw_submissions)"
   ]
  },
  {
   "cell_type": "code",
   "execution_count": null,
   "metadata": {},
   "outputs": [],
   "source": []
  }
 ],
 "metadata": {
  "kernelspec": {
   "display_name": "Python 3",
   "language": "python",
   "name": "python3"
  },
  "language_info": {
   "codemirror_mode": {
    "name": "ipython",
    "version": 3
   },
   "file_extension": ".py",
   "mimetype": "text/x-python",
   "name": "python",
   "nbconvert_exporter": "python",
   "pygments_lexer": "ipython3",
   "version": "3.8.5"
  }
 },
 "nbformat": 4,
 "nbformat_minor": 4
}
